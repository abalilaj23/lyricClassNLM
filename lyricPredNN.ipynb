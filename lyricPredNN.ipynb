{
 "cells": [
  {
   "cell_type": "markdown",
   "id": "9287e46c-a17f-4ac7-b4ce-4e185ea0ac6a",
   "metadata": {},
   "source": [
    "## Predicting Lyric Genre Using Natural Language Model "
   ]
  },
  {
   "cell_type": "markdown",
   "id": "5f146bd2-e00f-4be0-a676-2c962244e009",
   "metadata": {},
   "source": [
    "#### Introduction: Packages and Data"
   ]
  },
  {
   "cell_type": "code",
   "execution_count": 2,
   "id": "d9ad0cf7-4711-4181-b14e-28f82e0c3f70",
   "metadata": {},
   "outputs": [],
   "source": [
    "#import packages\n",
    "import pandas as pd\n",
    "import numpy as np\n",
    "import matplotlib.pyplot as plt\n",
    "import tensorflow as tf\n",
    "from tensorflow import keras\n",
    "keras.utils.set_random_seed(42)"
   ]
  },
  {
   "cell_type": "code",
   "execution_count": 5,
   "id": "0baa2dfe-f601-49dc-9b44-2bb43c53683d",
   "metadata": {},
   "outputs": [],
   "source": [
    "#data\n",
    "train_df = pd.read_csv(\"lyric_genre_train.csv\")\n",
    "test_df = pd.read_csv(\"lyric_genre_test.csv\")\n",
    "val_df = pd.read_csv(\"lyric_genre_val.csv\")"
   ]
  },
  {
   "cell_type": "code",
   "execution_count": 6,
   "id": "604a30ae-9b87-4ae4-b3b8-6d94614243f0",
   "metadata": {},
   "outputs": [
    {
     "data": {
      "text/html": [
       "<div>\n",
       "<style scoped>\n",
       "    .dataframe tbody tr th:only-of-type {\n",
       "        vertical-align: middle;\n",
       "    }\n",
       "\n",
       "    .dataframe tbody tr th {\n",
       "        vertical-align: top;\n",
       "    }\n",
       "\n",
       "    .dataframe thead th {\n",
       "        text-align: right;\n",
       "    }\n",
       "</style>\n",
       "<table border=\"1\" class=\"dataframe\">\n",
       "  <thead>\n",
       "    <tr style=\"text-align: right;\">\n",
       "      <th></th>\n",
       "      <th>Unnamed: 0</th>\n",
       "      <th>Lyric</th>\n",
       "      <th>Genre</th>\n",
       "    </tr>\n",
       "  </thead>\n",
       "  <tbody>\n",
       "    <tr>\n",
       "      <th>0</th>\n",
       "      <td>0</td>\n",
       "      <td>Oh, girl. I can't get ready (Can't get ready f...</td>\n",
       "      <td>Pop</td>\n",
       "    </tr>\n",
       "    <tr>\n",
       "      <th>1</th>\n",
       "      <td>1</td>\n",
       "      <td>We met on a rainy evening in the summertime. D...</td>\n",
       "      <td>Pop</td>\n",
       "    </tr>\n",
       "    <tr>\n",
       "      <th>2</th>\n",
       "      <td>2</td>\n",
       "      <td>We carried you in our arms. On Independence Da...</td>\n",
       "      <td>Rock</td>\n",
       "    </tr>\n",
       "    <tr>\n",
       "      <th>3</th>\n",
       "      <td>3</td>\n",
       "      <td>I know he loved you. A long time ago. I ain't ...</td>\n",
       "      <td>Pop</td>\n",
       "    </tr>\n",
       "    <tr>\n",
       "      <th>4</th>\n",
       "      <td>4</td>\n",
       "      <td>Paralysis through analysis. Yellow moral uncle...</td>\n",
       "      <td>Rock</td>\n",
       "    </tr>\n",
       "  </tbody>\n",
       "</table>\n",
       "</div>"
      ],
      "text/plain": [
       "   Unnamed: 0                                              Lyric Genre\n",
       "0           0  Oh, girl. I can't get ready (Can't get ready f...   Pop\n",
       "1           1  We met on a rainy evening in the summertime. D...   Pop\n",
       "2           2  We carried you in our arms. On Independence Da...  Rock\n",
       "3           3  I know he loved you. A long time ago. I ain't ...   Pop\n",
       "4           4  Paralysis through analysis. Yellow moral uncle...  Rock"
      ]
     },
     "execution_count": 6,
     "metadata": {},
     "output_type": "execute_result"
    }
   ],
   "source": [
    "train_df.head()"
   ]
  },
  {
   "cell_type": "code",
   "execution_count": 7,
   "id": "b306f5e1-3ded-446c-af44-cc2336bf4cb6",
   "metadata": {},
   "outputs": [
    {
     "data": {
      "text/html": [
       "<div>\n",
       "<style scoped>\n",
       "    .dataframe tbody tr th:only-of-type {\n",
       "        vertical-align: middle;\n",
       "    }\n",
       "\n",
       "    .dataframe tbody tr th {\n",
       "        vertical-align: top;\n",
       "    }\n",
       "\n",
       "    .dataframe thead th {\n",
       "        text-align: right;\n",
       "    }\n",
       "</style>\n",
       "<table border=\"1\" class=\"dataframe\">\n",
       "  <thead>\n",
       "    <tr style=\"text-align: right;\">\n",
       "      <th></th>\n",
       "      <th>Unnamed: 0</th>\n",
       "      <th>Lyric</th>\n",
       "      <th>Genre</th>\n",
       "    </tr>\n",
       "  </thead>\n",
       "  <tbody>\n",
       "    <tr>\n",
       "      <th>48986</th>\n",
       "      <td>48986</td>\n",
       "      <td>[Hook]. Beamer, Benz, Or Bentley. Beamer, Benz...</td>\n",
       "      <td>Hip Hop</td>\n",
       "    </tr>\n",
       "    <tr>\n",
       "      <th>48987</th>\n",
       "      <td>48987</td>\n",
       "      <td>You never listen to me. I know I'm better off ...</td>\n",
       "      <td>Pop</td>\n",
       "    </tr>\n",
       "    <tr>\n",
       "      <th>48988</th>\n",
       "      <td>48988</td>\n",
       "      <td>Things have come to a pretty pass. Our romance...</td>\n",
       "      <td>Pop</td>\n",
       "    </tr>\n",
       "    <tr>\n",
       "      <th>48989</th>\n",
       "      <td>48989</td>\n",
       "      <td>Little baby, on my shoulder. I could fall into...</td>\n",
       "      <td>Pop</td>\n",
       "    </tr>\n",
       "    <tr>\n",
       "      <th>48990</th>\n",
       "      <td>48990</td>\n",
       "      <td>Music : Rudolf Schenker. Lyrics: Klaus Meine. ...</td>\n",
       "      <td>Rock</td>\n",
       "    </tr>\n",
       "  </tbody>\n",
       "</table>\n",
       "</div>"
      ],
      "text/plain": [
       "       Unnamed: 0                                              Lyric    Genre\n",
       "48986       48986  [Hook]. Beamer, Benz, Or Bentley. Beamer, Benz...  Hip Hop\n",
       "48987       48987  You never listen to me. I know I'm better off ...      Pop\n",
       "48988       48988  Things have come to a pretty pass. Our romance...      Pop\n",
       "48989       48989  Little baby, on my shoulder. I could fall into...      Pop\n",
       "48990       48990  Music : Rudolf Schenker. Lyrics: Klaus Meine. ...     Rock"
      ]
     },
     "execution_count": 7,
     "metadata": {},
     "output_type": "execute_result"
    }
   ],
   "source": [
    "train_df.tail()"
   ]
  },
  {
   "cell_type": "code",
   "execution_count": 8,
   "id": "b350943e-5e8f-4075-b6cc-ae928d9b7ba6",
   "metadata": {},
   "outputs": [
    {
     "data": {
      "text/plain": [
       "(48991, 3)"
      ]
     },
     "execution_count": 8,
     "metadata": {},
     "output_type": "execute_result"
    }
   ],
   "source": [
    "train_df.shape"
   ]
  },
  {
   "cell_type": "code",
   "execution_count": 9,
   "id": "8419abac-5a63-4a64-baa4-3e1b92706619",
   "metadata": {},
   "outputs": [
    {
     "data": {
      "text/plain": [
       "(21774, 3)"
      ]
     },
     "execution_count": 9,
     "metadata": {},
     "output_type": "execute_result"
    }
   ],
   "source": [
    "test_df.shape"
   ]
  },
  {
   "cell_type": "code",
   "execution_count": 10,
   "id": "2aa7ffa0-09c0-43d6-bfbe-034311a9a130",
   "metadata": {},
   "outputs": [
    {
     "data": {
      "text/plain": [
       "(16331, 3)"
      ]
     },
     "execution_count": 10,
     "metadata": {},
     "output_type": "execute_result"
    }
   ],
   "source": [
    "val_df.shape"
   ]
  },
  {
   "cell_type": "code",
   "execution_count": 12,
   "id": "8d5e4696-b4ac-44ce-b14c-6e88089a4278",
   "metadata": {},
   "outputs": [
    {
     "data": {
      "text/plain": [
       "Genre\n",
       "Rock       0.549448\n",
       "Pop        0.295136\n",
       "Hip Hop    0.155416\n",
       "Name: count, dtype: float64"
      ]
     },
     "execution_count": 12,
     "metadata": {},
     "output_type": "execute_result"
    }
   ],
   "source": [
    "#frequencies for each category\n",
    "train_df['Genre'].value_counts()/train_df.shape[0]"
   ]
  },
  {
   "cell_type": "code",
   "execution_count": 32,
   "id": "9514bdc0-d154-4738-9884-1e0d2f1a656b",
   "metadata": {},
   "outputs": [],
   "source": [
    "#create dummies for the dependent variable Genre in each dataset by one hot encoding them\n",
    "y_train = pd.get_dummies(train_df['Genre']).to_numpy()\n",
    "y_val = pd.get_dummies(val_df['Genre']).to_numpy()\n",
    "y_test = pd.get_dummies(test_df['Genre']).to_numpy()"
   ]
  },
  {
   "cell_type": "code",
   "execution_count": 14,
   "id": "68a6833b-3b93-436e-91b0-dfcc441cce0a",
   "metadata": {},
   "outputs": [
    {
     "data": {
      "text/plain": [
       "array([[False,  True, False],\n",
       "       [False,  True, False],\n",
       "       [False, False,  True],\n",
       "       ...,\n",
       "       [False,  True, False],\n",
       "       [False,  True, False],\n",
       "       [False, False,  True]])"
      ]
     },
     "execution_count": 14,
     "metadata": {},
     "output_type": "execute_result"
    }
   ],
   "source": [
    "y_train"
   ]
  },
  {
   "cell_type": "markdown",
   "id": "01b5c00b-4ec7-44c0-b873-7ec4c37898ce",
   "metadata": {},
   "source": [
    "#### Model 1: Bag of Words"
   ]
  },
  {
   "cell_type": "code",
   "execution_count": 15,
   "id": "4f80b6f0-cd62-4d93-a43c-fe4cad49858f",
   "metadata": {},
   "outputs": [],
   "source": [
    "#text vextorization with multi hot encoding\n",
    "max_tokens = 5000\n",
    "text_vectorization = keras.layers.TextVectorization(\n",
    "    max_tokens = max_tokens,\n",
    "    output_mode= 'multi_hot'\n",
    ")"
   ]
  },
  {
   "cell_type": "code",
   "execution_count": 16,
   "id": "21df8c2c-39e4-4c94-a2ca-b5d491c1ea37",
   "metadata": {},
   "outputs": [],
   "source": [
    "#define the vocabolary to be indexed\n",
    "text_vectorization.adapt(train_df['Lyric'])"
   ]
  },
  {
   "cell_type": "code",
   "execution_count": 20,
   "id": "9fc2df70-9b11-4123-a362-a71e5bccd1d4",
   "metadata": {},
   "outputs": [
    {
     "data": {
      "text/plain": [
       "[np.str_('stickin'),\n",
       " np.str_('rumble'),\n",
       " np.str_('rug'),\n",
       " np.str_('pam'),\n",
       " np.str_('os'),\n",
       " np.str_('ooohh'),\n",
       " np.str_('motto'),\n",
       " np.str_('marshall'),\n",
       " np.str_('loyalty'),\n",
       " np.str_('legacy')]"
      ]
     },
     "execution_count": 20,
     "metadata": {},
     "output_type": "execute_result"
    }
   ],
   "source": [
    "#check out the least common 10 words\n",
    "text_vectorization.get_vocabulary()[-10:]"
   ]
  },
  {
   "cell_type": "code",
   "execution_count": 22,
   "id": "89f62bd4-d50b-4ce4-ac87-d53db376de5b",
   "metadata": {},
   "outputs": [],
   "source": [
    "#create the input variables from the text_vectorization layer for each dataset\n",
    "x_train = text_vectorization(train_df['Lyric'])\n",
    "x_test = text_vectorization(test_df['Lyric'])\n",
    "x_val = text_vectorization(val_df['Lyric'])\n"
   ]
  },
  {
   "cell_type": "code",
   "execution_count": 26,
   "id": "6bc40d6a-f6c0-499f-909c-1e85dc554e52",
   "metadata": {},
   "outputs": [
    {
     "data": {
      "text/plain": [
       "<tf.Tensor: shape=(30, 5000), dtype=int64, numpy=\n",
       "array([[1, 1, 1, ..., 0, 0, 0],\n",
       "       [1, 1, 1, ..., 0, 0, 0],\n",
       "       [1, 1, 1, ..., 0, 0, 0],\n",
       "       ...,\n",
       "       [1, 1, 1, ..., 0, 0, 0],\n",
       "       [1, 1, 1, ..., 0, 0, 0],\n",
       "       [1, 1, 1, ..., 0, 0, 0]])>"
      ]
     },
     "execution_count": 26,
     "metadata": {},
     "output_type": "execute_result"
    }
   ],
   "source": [
    "x_train[-30:]"
   ]
  },
  {
   "cell_type": "code",
   "execution_count": 28,
   "id": "7d19c71e-fae8-400b-951c-3ea25fd2e5a3",
   "metadata": {},
   "outputs": [
    {
     "data": {
      "text/html": [
       "<pre style=\"white-space:pre;overflow-x:auto;line-height:normal;font-family:Menlo,'DejaVu Sans Mono',consolas,'Courier New',monospace\"><span style=\"font-weight: bold\">Model: \"functional\"</span>\n",
       "</pre>\n"
      ],
      "text/plain": [
       "\u001b[1mModel: \"functional\"\u001b[0m\n"
      ]
     },
     "metadata": {},
     "output_type": "display_data"
    },
    {
     "data": {
      "text/html": [
       "<pre style=\"white-space:pre;overflow-x:auto;line-height:normal;font-family:Menlo,'DejaVu Sans Mono',consolas,'Courier New',monospace\">┏━━━━━━━━━━━━━━━━━━━━━━━━━━━━━━━━━━━━━━┳━━━━━━━━━━━━━━━━━━━━━━━━━━━━━┳━━━━━━━━━━━━━━━━━┓\n",
       "┃<span style=\"font-weight: bold\"> Layer (type)                         </span>┃<span style=\"font-weight: bold\"> Output Shape                </span>┃<span style=\"font-weight: bold\">         Param # </span>┃\n",
       "┡━━━━━━━━━━━━━━━━━━━━━━━━━━━━━━━━━━━━━━╇━━━━━━━━━━━━━━━━━━━━━━━━━━━━━╇━━━━━━━━━━━━━━━━━┩\n",
       "│ input_layer_1 (<span style=\"color: #0087ff; text-decoration-color: #0087ff\">InputLayer</span>)           │ (<span style=\"color: #00d7ff; text-decoration-color: #00d7ff\">None</span>, <span style=\"color: #00af00; text-decoration-color: #00af00\">5000</span>)                │               <span style=\"color: #00af00; text-decoration-color: #00af00\">0</span> │\n",
       "├──────────────────────────────────────┼─────────────────────────────┼─────────────────┤\n",
       "│ dense_2 (<span style=\"color: #0087ff; text-decoration-color: #0087ff\">Dense</span>)                      │ (<span style=\"color: #00d7ff; text-decoration-color: #00d7ff\">None</span>, <span style=\"color: #00af00; text-decoration-color: #00af00\">8</span>)                   │          <span style=\"color: #00af00; text-decoration-color: #00af00\">40,008</span> │\n",
       "├──────────────────────────────────────┼─────────────────────────────┼─────────────────┤\n",
       "│ dense_3 (<span style=\"color: #0087ff; text-decoration-color: #0087ff\">Dense</span>)                      │ (<span style=\"color: #00d7ff; text-decoration-color: #00d7ff\">None</span>, <span style=\"color: #00af00; text-decoration-color: #00af00\">3</span>)                   │              <span style=\"color: #00af00; text-decoration-color: #00af00\">27</span> │\n",
       "└──────────────────────────────────────┴─────────────────────────────┴─────────────────┘\n",
       "</pre>\n"
      ],
      "text/plain": [
       "┏━━━━━━━━━━━━━━━━━━━━━━━━━━━━━━━━━━━━━━┳━━━━━━━━━━━━━━━━━━━━━━━━━━━━━┳━━━━━━━━━━━━━━━━━┓\n",
       "┃\u001b[1m \u001b[0m\u001b[1mLayer (type)                        \u001b[0m\u001b[1m \u001b[0m┃\u001b[1m \u001b[0m\u001b[1mOutput Shape               \u001b[0m\u001b[1m \u001b[0m┃\u001b[1m \u001b[0m\u001b[1m        Param #\u001b[0m\u001b[1m \u001b[0m┃\n",
       "┡━━━━━━━━━━━━━━━━━━━━━━━━━━━━━━━━━━━━━━╇━━━━━━━━━━━━━━━━━━━━━━━━━━━━━╇━━━━━━━━━━━━━━━━━┩\n",
       "│ input_layer_1 (\u001b[38;5;33mInputLayer\u001b[0m)           │ (\u001b[38;5;45mNone\u001b[0m, \u001b[38;5;34m5000\u001b[0m)                │               \u001b[38;5;34m0\u001b[0m │\n",
       "├──────────────────────────────────────┼─────────────────────────────┼─────────────────┤\n",
       "│ dense_2 (\u001b[38;5;33mDense\u001b[0m)                      │ (\u001b[38;5;45mNone\u001b[0m, \u001b[38;5;34m8\u001b[0m)                   │          \u001b[38;5;34m40,008\u001b[0m │\n",
       "├──────────────────────────────────────┼─────────────────────────────┼─────────────────┤\n",
       "│ dense_3 (\u001b[38;5;33mDense\u001b[0m)                      │ (\u001b[38;5;45mNone\u001b[0m, \u001b[38;5;34m3\u001b[0m)                   │              \u001b[38;5;34m27\u001b[0m │\n",
       "└──────────────────────────────────────┴─────────────────────────────┴─────────────────┘\n"
      ]
     },
     "metadata": {},
     "output_type": "display_data"
    },
    {
     "data": {
      "text/html": [
       "<pre style=\"white-space:pre;overflow-x:auto;line-height:normal;font-family:Menlo,'DejaVu Sans Mono',consolas,'Courier New',monospace\"><span style=\"font-weight: bold\"> Total params: </span><span style=\"color: #00af00; text-decoration-color: #00af00\">40,035</span> (156.39 KB)\n",
       "</pre>\n"
      ],
      "text/plain": [
       "\u001b[1m Total params: \u001b[0m\u001b[38;5;34m40,035\u001b[0m (156.39 KB)\n"
      ]
     },
     "metadata": {},
     "output_type": "display_data"
    },
    {
     "data": {
      "text/html": [
       "<pre style=\"white-space:pre;overflow-x:auto;line-height:normal;font-family:Menlo,'DejaVu Sans Mono',consolas,'Courier New',monospace\"><span style=\"font-weight: bold\"> Trainable params: </span><span style=\"color: #00af00; text-decoration-color: #00af00\">40,035</span> (156.39 KB)\n",
       "</pre>\n"
      ],
      "text/plain": [
       "\u001b[1m Trainable params: \u001b[0m\u001b[38;5;34m40,035\u001b[0m (156.39 KB)\n"
      ]
     },
     "metadata": {},
     "output_type": "display_data"
    },
    {
     "data": {
      "text/html": [
       "<pre style=\"white-space:pre;overflow-x:auto;line-height:normal;font-family:Menlo,'DejaVu Sans Mono',consolas,'Courier New',monospace\"><span style=\"font-weight: bold\"> Non-trainable params: </span><span style=\"color: #00af00; text-decoration-color: #00af00\">0</span> (0.00 B)\n",
       "</pre>\n"
      ],
      "text/plain": [
       "\u001b[1m Non-trainable params: \u001b[0m\u001b[38;5;34m0\u001b[0m (0.00 B)\n"
      ]
     },
     "metadata": {},
     "output_type": "display_data"
    }
   ],
   "source": [
    "#build simple 1-hidden layer model\n",
    "inputs = keras.Input(shape = (max_tokens, ))\n",
    "x = keras.layers.Dense(8, activation = \"relu\")(inputs)\n",
    "outputs = keras.layers.Dense(3, activation = \"softmax\")(x)\n",
    "\n",
    "model = keras.Model(inputs, outputs)\n",
    "\n",
    "model.summary()\n"
   ]
  },
  {
   "cell_type": "code",
   "execution_count": 29,
   "id": "d910364d-1049-42af-8191-382917df78e0",
   "metadata": {},
   "outputs": [],
   "source": [
    "#optimize model\n",
    "model.compile(optimizer = 'adam',\n",
    "             loss = 'categorical_crossentropy',\n",
    "             metrics = [\"accuracy\"])"
   ]
  },
  {
   "cell_type": "code",
   "execution_count": 30,
   "id": "fb536166-587d-41be-84f5-4c5ff0023363",
   "metadata": {},
   "outputs": [
    {
     "name": "stdout",
     "output_type": "stream",
     "text": [
      "Epoch 1/10\n",
      "\u001b[1m1531/1531\u001b[0m \u001b[32m━━━━━━━━━━━━━━━━━━━━\u001b[0m\u001b[37m\u001b[0m \u001b[1m13s\u001b[0m 7ms/step - accuracy: 0.6962 - loss: 0.6988 - val_accuracy: 0.7513 - val_loss: 0.5734\n",
      "Epoch 2/10\n",
      "\u001b[1m1531/1531\u001b[0m \u001b[32m━━━━━━━━━━━━━━━━━━━━\u001b[0m\u001b[37m\u001b[0m \u001b[1m20s\u001b[0m 7ms/step - accuracy: 0.7671 - loss: 0.5334 - val_accuracy: 0.7502 - val_loss: 0.5769\n",
      "Epoch 3/10\n",
      "\u001b[1m1531/1531\u001b[0m \u001b[32m━━━━━━━━━━━━━━━━━━━━\u001b[0m\u001b[37m\u001b[0m \u001b[1m10s\u001b[0m 7ms/step - accuracy: 0.7830 - loss: 0.5013 - val_accuracy: 0.7475 - val_loss: 0.5866\n",
      "Epoch 4/10\n",
      "\u001b[1m1531/1531\u001b[0m \u001b[32m━━━━━━━━━━━━━━━━━━━━\u001b[0m\u001b[37m\u001b[0m \u001b[1m10s\u001b[0m 6ms/step - accuracy: 0.7939 - loss: 0.4779 - val_accuracy: 0.7452 - val_loss: 0.5990\n",
      "Epoch 5/10\n",
      "\u001b[1m1531/1531\u001b[0m \u001b[32m━━━━━━━━━━━━━━━━━━━━\u001b[0m\u001b[37m\u001b[0m \u001b[1m10s\u001b[0m 6ms/step - accuracy: 0.8041 - loss: 0.4569 - val_accuracy: 0.7421 - val_loss: 0.6162\n",
      "Epoch 6/10\n",
      "\u001b[1m1531/1531\u001b[0m \u001b[32m━━━━━━━━━━━━━━━━━━━━\u001b[0m\u001b[37m\u001b[0m \u001b[1m10s\u001b[0m 6ms/step - accuracy: 0.8135 - loss: 0.4374 - val_accuracy: 0.7398 - val_loss: 0.6394\n",
      "Epoch 7/10\n",
      "\u001b[1m1531/1531\u001b[0m \u001b[32m━━━━━━━━━━━━━━━━━━━━\u001b[0m\u001b[37m\u001b[0m \u001b[1m11s\u001b[0m 7ms/step - accuracy: 0.8217 - loss: 0.4194 - val_accuracy: 0.7354 - val_loss: 0.6643\n",
      "Epoch 8/10\n",
      "\u001b[1m1531/1531\u001b[0m \u001b[32m━━━━━━━━━━━━━━━━━━━━\u001b[0m\u001b[37m\u001b[0m \u001b[1m10s\u001b[0m 6ms/step - accuracy: 0.8297 - loss: 0.4019 - val_accuracy: 0.7317 - val_loss: 0.6915\n",
      "Epoch 9/10\n",
      "\u001b[1m1531/1531\u001b[0m \u001b[32m━━━━━━━━━━━━━━━━━━━━\u001b[0m\u001b[37m\u001b[0m \u001b[1m10s\u001b[0m 6ms/step - accuracy: 0.8391 - loss: 0.3852 - val_accuracy: 0.7303 - val_loss: 0.7203\n",
      "Epoch 10/10\n",
      "\u001b[1m1531/1531\u001b[0m \u001b[32m━━━━━━━━━━━━━━━━━━━━\u001b[0m\u001b[37m\u001b[0m \u001b[1m9s\u001b[0m 6ms/step - accuracy: 0.8456 - loss: 0.3703 - val_accuracy: 0.7256 - val_loss: 0.7540\n"
     ]
    },
    {
     "data": {
      "text/plain": [
       "<keras.src.callbacks.history.History at 0x1e92b44ff10>"
      ]
     },
     "execution_count": 30,
     "metadata": {},
     "output_type": "execute_result"
    }
   ],
   "source": [
    "#fit model\n",
    "model.fit(x= x_train, y = y_train,\n",
    "         validation_data = (x_val, y_val),\n",
    "         epochs = 10,\n",
    "         batch_size = 32)"
   ]
  },
  {
   "cell_type": "code",
   "execution_count": 33,
   "id": "28183027-2610-4e08-8db2-4db401efe42c",
   "metadata": {},
   "outputs": [
    {
     "name": "stdout",
     "output_type": "stream",
     "text": [
      "\u001b[1m681/681\u001b[0m \u001b[32m━━━━━━━━━━━━━━━━━━━━\u001b[0m\u001b[37m\u001b[0m \u001b[1m3s\u001b[0m 4ms/step - accuracy: 0.7230 - loss: 0.7545\n"
     ]
    },
    {
     "data": {
      "text/plain": [
       "[0.766316831111908, 0.7204004526138306]"
      ]
     },
     "execution_count": 33,
     "metadata": {},
     "output_type": "execute_result"
    }
   ],
   "source": [
    "#evaluate model\n",
    "model.evaluate(x = x_test, y = y_test)"
   ]
  },
  {
   "cell_type": "markdown",
   "id": "dabd85e1-80e9-4363-be20-49c60f1a63bd",
   "metadata": {},
   "source": [
    "#### Model 2: Word Embedings"
   ]
  },
  {
   "cell_type": "code",
   "execution_count": 35,
   "id": "3fe768af-f4fd-4652-8a96-85b588d39400",
   "metadata": {},
   "outputs": [],
   "source": [
    "# glove embeding trained with 2014 english wikipedia will be used here.\n",
    "#It includes 100-dimensional emmbeding vectors of 400 thousand words\n",
    "\n",
    "import requests\n",
    "\n",
    "url = \"http://nlp.stanford.edu/data/glove.6B.zip\"\n",
    "response = requests.get(url)\n",
    "\n",
    "with open(\"glove.6B.zip\", \"wb\") as f:\n",
    "    f.write(response.content)\n"
   ]
  },
  {
   "cell_type": "code",
   "execution_count": 36,
   "id": "fa489650-e06c-410c-855d-f7c8b462ffdd",
   "metadata": {},
   "outputs": [],
   "source": [
    "import zipfile\n",
    "\n",
    "with zipfile.ZipFile(\"glove.6B.zip\", \"r\") as zip_ref:\n",
    "    zip_ref.extractall()"
   ]
  },
  {
   "cell_type": "code",
   "execution_count": 38,
   "id": "2afc2206-5b3f-4045-85c4-0c757a11a2f2",
   "metadata": {},
   "outputs": [
    {
     "name": "stdout",
     "output_type": "stream",
     "text": [
      "Found 400000 word vectors.\n"
     ]
    }
   ],
   "source": [
    "#create a dictionary to hold pre-trained embeding vectors\n",
    "embedding_dim = 100\n",
    "path_to_glove_file = f\"glove.6B.{embedding_dim}d.txt\"\n",
    "\n",
    "embeddings_index = {}\n",
    "with open(path_to_glove_file, encoding=\"utf8\") as f:\n",
    "    for line in f:\n",
    "        word, coefs = line.split(maxsplit=1)\n",
    "        coefs = np.fromstring(coefs, \"f\", sep=\" \")\n",
    "        embeddings_index[word] = coefs\n",
    "\n",
    "print(f\"Found {len(embeddings_index)} word vectors.\")"
   ]
  },
  {
   "cell_type": "code",
   "execution_count": 42,
   "id": "4318cb80-122a-44cd-babf-4473d826bd0f",
   "metadata": {},
   "outputs": [
    {
     "data": {
      "text/plain": [
       "array([-4.0623e-02,  1.2911e-01,  9.2652e-01, -7.2253e-02,  4.3828e-01,\n",
       "       -3.7762e-01, -2.7500e-01, -9.7944e-02, -1.7680e-01,  3.8279e-01,\n",
       "        9.2663e-03,  9.0631e-03, -3.1502e-01,  6.2815e-02, -2.2111e-01,\n",
       "       -9.9742e-01, -1.8360e-01,  3.9113e-01, -9.2952e-02, -1.2779e-01,\n",
       "        4.8426e-01, -4.9320e-01,  5.0948e-01, -4.0813e-01,  6.3657e-01,\n",
       "       -3.5722e-01, -2.9193e-01,  3.8334e-01,  5.3071e-01,  3.5986e-01,\n",
       "        9.4441e-01,  5.1081e-01, -2.8931e-01, -1.8275e-01, -6.4469e-01,\n",
       "        1.7839e-03,  2.9478e-01, -1.6024e-01, -3.6157e-01, -3.5547e-01,\n",
       "       -1.7029e-01, -3.6866e-01,  2.1928e-01, -8.1945e-01, -9.6375e-02,\n",
       "       -9.4109e-02,  3.1669e-01, -5.9285e-01,  5.9422e-01, -3.3568e-01,\n",
       "       -5.5049e-01,  5.8094e-02, -2.0299e-02,  1.5526e+00,  1.0057e+00,\n",
       "       -2.2807e+00,  9.0735e-02,  2.5548e-01,  1.9764e+00,  1.9240e-01,\n",
       "        2.1717e-01, -5.1021e-01, -5.1359e-01,  5.1908e-01,  1.0555e+00,\n",
       "        5.8991e-01,  3.1111e-01, -6.3756e-01,  8.6152e-02,  3.5644e-01,\n",
       "        1.6603e-01, -3.4552e-01, -1.6820e-01, -3.9867e-01,  3.4280e-02,\n",
       "       -4.7766e-01, -2.5408e-01, -2.3718e-01, -8.3404e-01,  6.5836e-01,\n",
       "        9.3803e-01, -1.3326e-01, -2.9901e-01,  3.2505e-01, -1.1457e+00,\n",
       "        1.0420e+00,  6.5583e-01,  4.1296e-01,  1.9837e-01, -9.3335e-01,\n",
       "       -1.6483e-01, -5.9048e-01, -5.8521e-01,  3.3946e-01, -1.1346e+00,\n",
       "       -4.3089e-01, -4.5838e-02, -9.5842e-01,  1.0884e+00, -9.0499e-02],\n",
       "      dtype=float32)"
      ]
     },
     "execution_count": 42,
     "metadata": {},
     "output_type": "execute_result"
    }
   ],
   "source": [
    "embeddings_index['power']"
   ]
  },
  {
   "cell_type": "code",
   "execution_count": 43,
   "id": "cb77dd38-106c-4fea-97d2-16f521fe9e29",
   "metadata": {},
   "outputs": [],
   "source": [
    "#incorporate GloVe embedings into the model to train it\n",
    "max_length = 300\n",
    "max_tokens = 5000\n",
    "text_vectorization = keras.layers.TextVectorization(\n",
    "    max_tokens = max_tokens,\n",
    "    output_mode = 'int',\n",
    "    output_sequence_length = max_length\n",
    ")"
   ]
  },
  {
   "cell_type": "code",
   "execution_count": 45,
   "id": "b6b91598-3400-42dd-82ac-f339be16f322",
   "metadata": {},
   "outputs": [],
   "source": [
    "# use text vectorization on our train data\n",
    "text_vectorization.adapt(train_df['Lyric'])"
   ]
  },
  {
   "cell_type": "code",
   "execution_count": 46,
   "id": "9ad319fb-f293-44a8-a0dd-0629af12adac",
   "metadata": {},
   "outputs": [],
   "source": [
    "#create input variables\n",
    "x_train = text_vectorization(train_df['Lyric'])\n",
    "x_test = text_vectorization(test_df['Lyric'])\n",
    "x_val = text_vectorization(val_df['Lyric'])"
   ]
  },
  {
   "cell_type": "code",
   "execution_count": 47,
   "id": "50bb4239-20df-4fa5-8c5d-eef398e621c3",
   "metadata": {},
   "outputs": [
    {
     "data": {
      "text/plain": [
       "<tf.Tensor: shape=(48991, 300), dtype=int64, numpy=\n",
       "array([[  40,   83,    4, ...,   22,  729,    3],\n",
       "       [  20,  649,   13, ...,    0,    0,    0],\n",
       "       [  20, 2872,    3, ...,    0,    0,    0],\n",
       "       ...,\n",
       "       [ 153,   66,   62, ...,    0,    0,    0],\n",
       "       [ 119,   51,   13, ...,    0,    0,    0],\n",
       "       [ 358,    1,    1, ...,    0,    0,    0]])>"
      ]
     },
     "execution_count": 47,
     "metadata": {},
     "output_type": "execute_result"
    }
   ],
   "source": [
    "x_train"
   ]
  },
  {
   "cell_type": "code",
   "execution_count": 50,
   "id": "33860f5f-dfa4-4453-bc0e-ef807e355702",
   "metadata": {},
   "outputs": [],
   "source": [
    "#create an embedding matrix to use in the NN model \n",
    "vocabulary = text_vectorization.get_vocabulary()\n",
    "word_index = dict(zip(vocabulary, range(len(vocabulary))))\n",
    "\n",
    "counter = 0\n",
    "embedding_matrix = np.zeros((max_tokens, embedding_dim))\n",
    "\n",
    "for word, i in word_index.items():\n",
    "    if i < max_tokens:\n",
    "        embedding_vector = embeddings_index.get(word)\n",
    "        if embedding_vector is not None:\n",
    "            embedding_matrix[i] = embedding_vector\n",
    "        else:\n",
    "            counter += 1"
   ]
  },
  {
   "cell_type": "code",
   "execution_count": 51,
   "id": "c6733824-9b29-4360-a479-5ccc690dd601",
   "metadata": {},
   "outputs": [
    {
     "data": {
      "text/plain": [
       "(5000, 100)"
      ]
     },
     "execution_count": 51,
     "metadata": {},
     "output_type": "execute_result"
    }
   ],
   "source": [
    "embedding_matrix.shape"
   ]
  },
  {
   "cell_type": "code",
   "execution_count": null,
   "id": "a4440846-4b40-4899-b85f-16fde6bdb2b8",
   "metadata": {},
   "outputs": [],
   "source": [
    "#create embedding layer\n"
   ]
  },
  {
   "cell_type": "code",
   "execution_count": 52,
   "id": "a95709ce-9bc4-4be7-9fa8-58e9fc4262a2",
   "metadata": {},
   "outputs": [],
   "source": [
    "embedding_layer = keras.layers.Embedding(\n",
    "    max_tokens,\n",
    "    embedding_dim,\n",
    "    embeddings_initializer = keras.initializers.Constant(embedding_matrix),\n",
    "    trainable = False\n",
    ")"
   ]
  },
  {
   "cell_type": "code",
   "execution_count": 62,
   "id": "8585a9f1-df7f-4fbc-a1c2-c1b38b193583",
   "metadata": {},
   "outputs": [
    {
     "data": {
      "text/html": [
       "<pre style=\"white-space:pre;overflow-x:auto;line-height:normal;font-family:Menlo,'DejaVu Sans Mono',consolas,'Courier New',monospace\"><span style=\"font-weight: bold\">Model: \"functional_2\"</span>\n",
       "</pre>\n"
      ],
      "text/plain": [
       "\u001b[1mModel: \"functional_2\"\u001b[0m\n"
      ]
     },
     "metadata": {},
     "output_type": "display_data"
    },
    {
     "data": {
      "text/html": [
       "<pre style=\"white-space:pre;overflow-x:auto;line-height:normal;font-family:Menlo,'DejaVu Sans Mono',consolas,'Courier New',monospace\">┏━━━━━━━━━━━━━━━━━━━━━━━━━━━━━━━━━━━━━━┳━━━━━━━━━━━━━━━━━━━━━━━━━━━━━┳━━━━━━━━━━━━━━━━━┓\n",
       "┃<span style=\"font-weight: bold\"> Layer (type)                         </span>┃<span style=\"font-weight: bold\"> Output Shape                </span>┃<span style=\"font-weight: bold\">         Param # </span>┃\n",
       "┡━━━━━━━━━━━━━━━━━━━━━━━━━━━━━━━━━━━━━━╇━━━━━━━━━━━━━━━━━━━━━━━━━━━━━╇━━━━━━━━━━━━━━━━━┩\n",
       "│ input_layer_5 (<span style=\"color: #0087ff; text-decoration-color: #0087ff\">InputLayer</span>)           │ (<span style=\"color: #00d7ff; text-decoration-color: #00d7ff\">None</span>, <span style=\"color: #00af00; text-decoration-color: #00af00\">300</span>)                 │               <span style=\"color: #00af00; text-decoration-color: #00af00\">0</span> │\n",
       "├──────────────────────────────────────┼─────────────────────────────┼─────────────────┤\n",
       "│ embedding (<span style=\"color: #0087ff; text-decoration-color: #0087ff\">Embedding</span>)                │ (<span style=\"color: #00d7ff; text-decoration-color: #00d7ff\">None</span>, <span style=\"color: #00af00; text-decoration-color: #00af00\">300</span>, <span style=\"color: #00af00; text-decoration-color: #00af00\">100</span>)            │         <span style=\"color: #00af00; text-decoration-color: #00af00\">500,000</span> │\n",
       "├──────────────────────────────────────┼─────────────────────────────┼─────────────────┤\n",
       "│ global_average_pooling1d             │ (<span style=\"color: #00d7ff; text-decoration-color: #00d7ff\">None</span>, <span style=\"color: #00af00; text-decoration-color: #00af00\">100</span>)                 │               <span style=\"color: #00af00; text-decoration-color: #00af00\">0</span> │\n",
       "│ (<span style=\"color: #0087ff; text-decoration-color: #0087ff\">GlobalAveragePooling1D</span>)             │                             │                 │\n",
       "├──────────────────────────────────────┼─────────────────────────────┼─────────────────┤\n",
       "│ dense_9 (<span style=\"color: #0087ff; text-decoration-color: #0087ff\">Dense</span>)                      │ (<span style=\"color: #00d7ff; text-decoration-color: #00d7ff\">None</span>, <span style=\"color: #00af00; text-decoration-color: #00af00\">8</span>)                   │             <span style=\"color: #00af00; text-decoration-color: #00af00\">808</span> │\n",
       "├──────────────────────────────────────┼─────────────────────────────┼─────────────────┤\n",
       "│ dropout_3 (<span style=\"color: #0087ff; text-decoration-color: #0087ff\">Dropout</span>)                  │ (<span style=\"color: #00d7ff; text-decoration-color: #00d7ff\">None</span>, <span style=\"color: #00af00; text-decoration-color: #00af00\">8</span>)                   │               <span style=\"color: #00af00; text-decoration-color: #00af00\">0</span> │\n",
       "├──────────────────────────────────────┼─────────────────────────────┼─────────────────┤\n",
       "│ dense_10 (<span style=\"color: #0087ff; text-decoration-color: #0087ff\">Dense</span>)                     │ (<span style=\"color: #00d7ff; text-decoration-color: #00d7ff\">None</span>, <span style=\"color: #00af00; text-decoration-color: #00af00\">3</span>)                   │              <span style=\"color: #00af00; text-decoration-color: #00af00\">27</span> │\n",
       "└──────────────────────────────────────┴─────────────────────────────┴─────────────────┘\n",
       "</pre>\n"
      ],
      "text/plain": [
       "┏━━━━━━━━━━━━━━━━━━━━━━━━━━━━━━━━━━━━━━┳━━━━━━━━━━━━━━━━━━━━━━━━━━━━━┳━━━━━━━━━━━━━━━━━┓\n",
       "┃\u001b[1m \u001b[0m\u001b[1mLayer (type)                        \u001b[0m\u001b[1m \u001b[0m┃\u001b[1m \u001b[0m\u001b[1mOutput Shape               \u001b[0m\u001b[1m \u001b[0m┃\u001b[1m \u001b[0m\u001b[1m        Param #\u001b[0m\u001b[1m \u001b[0m┃\n",
       "┡━━━━━━━━━━━━━━━━━━━━━━━━━━━━━━━━━━━━━━╇━━━━━━━━━━━━━━━━━━━━━━━━━━━━━╇━━━━━━━━━━━━━━━━━┩\n",
       "│ input_layer_5 (\u001b[38;5;33mInputLayer\u001b[0m)           │ (\u001b[38;5;45mNone\u001b[0m, \u001b[38;5;34m300\u001b[0m)                 │               \u001b[38;5;34m0\u001b[0m │\n",
       "├──────────────────────────────────────┼─────────────────────────────┼─────────────────┤\n",
       "│ embedding (\u001b[38;5;33mEmbedding\u001b[0m)                │ (\u001b[38;5;45mNone\u001b[0m, \u001b[38;5;34m300\u001b[0m, \u001b[38;5;34m100\u001b[0m)            │         \u001b[38;5;34m500,000\u001b[0m │\n",
       "├──────────────────────────────────────┼─────────────────────────────┼─────────────────┤\n",
       "│ global_average_pooling1d             │ (\u001b[38;5;45mNone\u001b[0m, \u001b[38;5;34m100\u001b[0m)                 │               \u001b[38;5;34m0\u001b[0m │\n",
       "│ (\u001b[38;5;33mGlobalAveragePooling1D\u001b[0m)             │                             │                 │\n",
       "├──────────────────────────────────────┼─────────────────────────────┼─────────────────┤\n",
       "│ dense_9 (\u001b[38;5;33mDense\u001b[0m)                      │ (\u001b[38;5;45mNone\u001b[0m, \u001b[38;5;34m8\u001b[0m)                   │             \u001b[38;5;34m808\u001b[0m │\n",
       "├──────────────────────────────────────┼─────────────────────────────┼─────────────────┤\n",
       "│ dropout_3 (\u001b[38;5;33mDropout\u001b[0m)                  │ (\u001b[38;5;45mNone\u001b[0m, \u001b[38;5;34m8\u001b[0m)                   │               \u001b[38;5;34m0\u001b[0m │\n",
       "├──────────────────────────────────────┼─────────────────────────────┼─────────────────┤\n",
       "│ dense_10 (\u001b[38;5;33mDense\u001b[0m)                     │ (\u001b[38;5;45mNone\u001b[0m, \u001b[38;5;34m3\u001b[0m)                   │              \u001b[38;5;34m27\u001b[0m │\n",
       "└──────────────────────────────────────┴─────────────────────────────┴─────────────────┘\n"
      ]
     },
     "metadata": {},
     "output_type": "display_data"
    },
    {
     "data": {
      "text/html": [
       "<pre style=\"white-space:pre;overflow-x:auto;line-height:normal;font-family:Menlo,'DejaVu Sans Mono',consolas,'Courier New',monospace\"><span style=\"font-weight: bold\"> Total params: </span><span style=\"color: #00af00; text-decoration-color: #00af00\">500,835</span> (1.91 MB)\n",
       "</pre>\n"
      ],
      "text/plain": [
       "\u001b[1m Total params: \u001b[0m\u001b[38;5;34m500,835\u001b[0m (1.91 MB)\n"
      ]
     },
     "metadata": {},
     "output_type": "display_data"
    },
    {
     "data": {
      "text/html": [
       "<pre style=\"white-space:pre;overflow-x:auto;line-height:normal;font-family:Menlo,'DejaVu Sans Mono',consolas,'Courier New',monospace\"><span style=\"font-weight: bold\"> Trainable params: </span><span style=\"color: #00af00; text-decoration-color: #00af00\">835</span> (3.26 KB)\n",
       "</pre>\n"
      ],
      "text/plain": [
       "\u001b[1m Trainable params: \u001b[0m\u001b[38;5;34m835\u001b[0m (3.26 KB)\n"
      ]
     },
     "metadata": {},
     "output_type": "display_data"
    },
    {
     "data": {
      "text/html": [
       "<pre style=\"white-space:pre;overflow-x:auto;line-height:normal;font-family:Menlo,'DejaVu Sans Mono',consolas,'Courier New',monospace\"><span style=\"font-weight: bold\"> Non-trainable params: </span><span style=\"color: #00af00; text-decoration-color: #00af00\">500,000</span> (1.91 MB)\n",
       "</pre>\n"
      ],
      "text/plain": [
       "\u001b[1m Non-trainable params: \u001b[0m\u001b[38;5;34m500,000\u001b[0m (1.91 MB)\n"
      ]
     },
     "metadata": {},
     "output_type": "display_data"
    }
   ],
   "source": [
    "#create a NN model that includes the embedding layer\n",
    "inputs = keras.Input(shape = (max_length, ))\n",
    "embedded = embedding_layer(inputs)\n",
    "embedded = keras.layers.GlobalAveragePooling1D()(embedded)\n",
    "x = keras.layers.Dense(8)(embedded)\n",
    "x = keras.layers.Dropout(0.5)(x)\n",
    "outputs = keras.layers.Dense(3, activation = \"softmax\")(x)\n",
    "\n",
    "model = keras.Model(inputs, outputs)\n",
    "\n",
    "model.summary()\n"
   ]
  },
  {
   "cell_type": "code",
   "execution_count": 63,
   "id": "34a98f36-3103-49bd-b0bb-925a8c704198",
   "metadata": {},
   "outputs": [],
   "source": [
    "#omptimize model\n",
    "model.compile(optimizer = \"adam\",\n",
    "             loss = \"categorical_crossentropy\",\n",
    "             metrics = [\"accuracy\"])"
   ]
  },
  {
   "cell_type": "code",
   "execution_count": 64,
   "id": "4c3b6dec-9ded-43d2-847c-fe43a2683be2",
   "metadata": {},
   "outputs": [
    {
     "name": "stdout",
     "output_type": "stream",
     "text": [
      "Epoch 1/10\n",
      "\u001b[1m1531/1531\u001b[0m \u001b[32m━━━━━━━━━━━━━━━━━━━━\u001b[0m\u001b[37m\u001b[0m \u001b[1m10s\u001b[0m 5ms/step - accuracy: 0.5431 - loss: 0.9695 - val_accuracy: 0.6371 - val_loss: 0.7952\n",
      "Epoch 2/10\n",
      "\u001b[1m1531/1531\u001b[0m \u001b[32m━━━━━━━━━━━━━━━━━━━━\u001b[0m\u001b[37m\u001b[0m \u001b[1m8s\u001b[0m 5ms/step - accuracy: 0.6361 - loss: 0.8133 - val_accuracy: 0.6605 - val_loss: 0.7649\n",
      "Epoch 3/10\n",
      "\u001b[1m1531/1531\u001b[0m \u001b[32m━━━━━━━━━━━━━━━━━━━━\u001b[0m\u001b[37m\u001b[0m \u001b[1m8s\u001b[0m 5ms/step - accuracy: 0.6450 - loss: 0.8002 - val_accuracy: 0.6630 - val_loss: 0.7621\n",
      "Epoch 4/10\n",
      "\u001b[1m1531/1531\u001b[0m \u001b[32m━━━━━━━━━━━━━━━━━━━━\u001b[0m\u001b[37m\u001b[0m \u001b[1m9s\u001b[0m 6ms/step - accuracy: 0.6448 - loss: 0.7935 - val_accuracy: 0.6554 - val_loss: 0.7596\n",
      "Epoch 5/10\n",
      "\u001b[1m1531/1531\u001b[0m \u001b[32m━━━━━━━━━━━━━━━━━━━━\u001b[0m\u001b[37m\u001b[0m \u001b[1m8s\u001b[0m 5ms/step - accuracy: 0.6496 - loss: 0.7858 - val_accuracy: 0.6552 - val_loss: 0.7592\n",
      "Epoch 6/10\n",
      "\u001b[1m1531/1531\u001b[0m \u001b[32m━━━━━━━━━━━━━━━━━━━━\u001b[0m\u001b[37m\u001b[0m \u001b[1m10s\u001b[0m 5ms/step - accuracy: 0.6516 - loss: 0.7873 - val_accuracy: 0.6669 - val_loss: 0.7524\n",
      "Epoch 7/10\n",
      "\u001b[1m1531/1531\u001b[0m \u001b[32m━━━━━━━━━━━━━━━━━━━━\u001b[0m\u001b[37m\u001b[0m \u001b[1m8s\u001b[0m 5ms/step - accuracy: 0.6541 - loss: 0.7855 - val_accuracy: 0.6692 - val_loss: 0.7468\n",
      "Epoch 8/10\n",
      "\u001b[1m1531/1531\u001b[0m \u001b[32m━━━━━━━━━━━━━━━━━━━━\u001b[0m\u001b[37m\u001b[0m \u001b[1m9s\u001b[0m 6ms/step - accuracy: 0.6549 - loss: 0.7844 - val_accuracy: 0.6695 - val_loss: 0.7455\n",
      "Epoch 9/10\n",
      "\u001b[1m1531/1531\u001b[0m \u001b[32m━━━━━━━━━━━━━━━━━━━━\u001b[0m\u001b[37m\u001b[0m \u001b[1m8s\u001b[0m 5ms/step - accuracy: 0.6579 - loss: 0.7812 - val_accuracy: 0.6736 - val_loss: 0.7438\n",
      "Epoch 10/10\n",
      "\u001b[1m1531/1531\u001b[0m \u001b[32m━━━━━━━━━━━━━━━━━━━━\u001b[0m\u001b[37m\u001b[0m \u001b[1m8s\u001b[0m 5ms/step - accuracy: 0.6542 - loss: 0.7835 - val_accuracy: 0.6756 - val_loss: 0.7425\n"
     ]
    },
    {
     "data": {
      "text/plain": [
       "<keras.src.callbacks.history.History at 0x1ebf297d030>"
      ]
     },
     "execution_count": 64,
     "metadata": {},
     "output_type": "execute_result"
    }
   ],
   "source": [
    "#fit model\n",
    "model.fit(x=x_train, y=y_train,\n",
    "          validation_data=(x_val, y_val),\n",
    "          epochs=10,\n",
    "          batch_size=32,)"
   ]
  },
  {
   "cell_type": "code",
   "execution_count": 65,
   "id": "c42fd506-55c5-4a89-9f2f-506460920707",
   "metadata": {},
   "outputs": [
    {
     "name": "stdout",
     "output_type": "stream",
     "text": [
      "\u001b[1m681/681\u001b[0m \u001b[32m━━━━━━━━━━━━━━━━━━━━\u001b[0m\u001b[37m\u001b[0m \u001b[1m3s\u001b[0m 4ms/step - accuracy: 0.6764 - loss: 0.7489\n"
     ]
    },
    {
     "data": {
      "text/plain": [
       "[0.7584152221679688, 0.6693763136863708]"
      ]
     },
     "execution_count": 65,
     "metadata": {},
     "output_type": "execute_result"
    }
   ],
   "source": [
    "model.evaluate(x = x_test, y = y_test)"
   ]
  },
  {
   "cell_type": "markdown",
   "id": "4ffd0c17-bd6a-4d4b-862f-b897756eab55",
   "metadata": {},
   "source": [
    "It performs worst than model 1 above because we set the trainable_parameters above to False. That means that it has very few trainable parameters. When we change it below, it performs much better. "
   ]
  },
  {
   "cell_type": "code",
   "execution_count": 66,
   "id": "6cdf1646-b852-4080-bdd8-780c9ba97af2",
   "metadata": {},
   "outputs": [
    {
     "data": {
      "text/html": [
       "<pre style=\"white-space:pre;overflow-x:auto;line-height:normal;font-family:Menlo,'DejaVu Sans Mono',consolas,'Courier New',monospace\"><span style=\"font-weight: bold\">Model: \"functional_3\"</span>\n",
       "</pre>\n"
      ],
      "text/plain": [
       "\u001b[1mModel: \"functional_3\"\u001b[0m\n"
      ]
     },
     "metadata": {},
     "output_type": "display_data"
    },
    {
     "data": {
      "text/html": [
       "<pre style=\"white-space:pre;overflow-x:auto;line-height:normal;font-family:Menlo,'DejaVu Sans Mono',consolas,'Courier New',monospace\">┏━━━━━━━━━━━━━━━━━━━━━━━━━━━━━━━━━━━━━━┳━━━━━━━━━━━━━━━━━━━━━━━━━━━━━┳━━━━━━━━━━━━━━━━━┓\n",
       "┃<span style=\"font-weight: bold\"> Layer (type)                         </span>┃<span style=\"font-weight: bold\"> Output Shape                </span>┃<span style=\"font-weight: bold\">         Param # </span>┃\n",
       "┡━━━━━━━━━━━━━━━━━━━━━━━━━━━━━━━━━━━━━━╇━━━━━━━━━━━━━━━━━━━━━━━━━━━━━╇━━━━━━━━━━━━━━━━━┩\n",
       "│ input_layer_6 (<span style=\"color: #0087ff; text-decoration-color: #0087ff\">InputLayer</span>)           │ (<span style=\"color: #00d7ff; text-decoration-color: #00d7ff\">None</span>, <span style=\"color: #00af00; text-decoration-color: #00af00\">300</span>)                 │               <span style=\"color: #00af00; text-decoration-color: #00af00\">0</span> │\n",
       "├──────────────────────────────────────┼─────────────────────────────┼─────────────────┤\n",
       "│ embedding_1 (<span style=\"color: #0087ff; text-decoration-color: #0087ff\">Embedding</span>)              │ (<span style=\"color: #00d7ff; text-decoration-color: #00d7ff\">None</span>, <span style=\"color: #00af00; text-decoration-color: #00af00\">300</span>, <span style=\"color: #00af00; text-decoration-color: #00af00\">100</span>)            │         <span style=\"color: #00af00; text-decoration-color: #00af00\">500,000</span> │\n",
       "├──────────────────────────────────────┼─────────────────────────────┼─────────────────┤\n",
       "│ global_average_pooling1d_1           │ (<span style=\"color: #00d7ff; text-decoration-color: #00d7ff\">None</span>, <span style=\"color: #00af00; text-decoration-color: #00af00\">100</span>)                 │               <span style=\"color: #00af00; text-decoration-color: #00af00\">0</span> │\n",
       "│ (<span style=\"color: #0087ff; text-decoration-color: #0087ff\">GlobalAveragePooling1D</span>)             │                             │                 │\n",
       "├──────────────────────────────────────┼─────────────────────────────┼─────────────────┤\n",
       "│ dense_11 (<span style=\"color: #0087ff; text-decoration-color: #0087ff\">Dense</span>)                     │ (<span style=\"color: #00d7ff; text-decoration-color: #00d7ff\">None</span>, <span style=\"color: #00af00; text-decoration-color: #00af00\">8</span>)                   │             <span style=\"color: #00af00; text-decoration-color: #00af00\">808</span> │\n",
       "├──────────────────────────────────────┼─────────────────────────────┼─────────────────┤\n",
       "│ dropout_4 (<span style=\"color: #0087ff; text-decoration-color: #0087ff\">Dropout</span>)                  │ (<span style=\"color: #00d7ff; text-decoration-color: #00d7ff\">None</span>, <span style=\"color: #00af00; text-decoration-color: #00af00\">8</span>)                   │               <span style=\"color: #00af00; text-decoration-color: #00af00\">0</span> │\n",
       "├──────────────────────────────────────┼─────────────────────────────┼─────────────────┤\n",
       "│ dense_12 (<span style=\"color: #0087ff; text-decoration-color: #0087ff\">Dense</span>)                     │ (<span style=\"color: #00d7ff; text-decoration-color: #00d7ff\">None</span>, <span style=\"color: #00af00; text-decoration-color: #00af00\">3</span>)                   │              <span style=\"color: #00af00; text-decoration-color: #00af00\">27</span> │\n",
       "└──────────────────────────────────────┴─────────────────────────────┴─────────────────┘\n",
       "</pre>\n"
      ],
      "text/plain": [
       "┏━━━━━━━━━━━━━━━━━━━━━━━━━━━━━━━━━━━━━━┳━━━━━━━━━━━━━━━━━━━━━━━━━━━━━┳━━━━━━━━━━━━━━━━━┓\n",
       "┃\u001b[1m \u001b[0m\u001b[1mLayer (type)                        \u001b[0m\u001b[1m \u001b[0m┃\u001b[1m \u001b[0m\u001b[1mOutput Shape               \u001b[0m\u001b[1m \u001b[0m┃\u001b[1m \u001b[0m\u001b[1m        Param #\u001b[0m\u001b[1m \u001b[0m┃\n",
       "┡━━━━━━━━━━━━━━━━━━━━━━━━━━━━━━━━━━━━━━╇━━━━━━━━━━━━━━━━━━━━━━━━━━━━━╇━━━━━━━━━━━━━━━━━┩\n",
       "│ input_layer_6 (\u001b[38;5;33mInputLayer\u001b[0m)           │ (\u001b[38;5;45mNone\u001b[0m, \u001b[38;5;34m300\u001b[0m)                 │               \u001b[38;5;34m0\u001b[0m │\n",
       "├──────────────────────────────────────┼─────────────────────────────┼─────────────────┤\n",
       "│ embedding_1 (\u001b[38;5;33mEmbedding\u001b[0m)              │ (\u001b[38;5;45mNone\u001b[0m, \u001b[38;5;34m300\u001b[0m, \u001b[38;5;34m100\u001b[0m)            │         \u001b[38;5;34m500,000\u001b[0m │\n",
       "├──────────────────────────────────────┼─────────────────────────────┼─────────────────┤\n",
       "│ global_average_pooling1d_1           │ (\u001b[38;5;45mNone\u001b[0m, \u001b[38;5;34m100\u001b[0m)                 │               \u001b[38;5;34m0\u001b[0m │\n",
       "│ (\u001b[38;5;33mGlobalAveragePooling1D\u001b[0m)             │                             │                 │\n",
       "├──────────────────────────────────────┼─────────────────────────────┼─────────────────┤\n",
       "│ dense_11 (\u001b[38;5;33mDense\u001b[0m)                     │ (\u001b[38;5;45mNone\u001b[0m, \u001b[38;5;34m8\u001b[0m)                   │             \u001b[38;5;34m808\u001b[0m │\n",
       "├──────────────────────────────────────┼─────────────────────────────┼─────────────────┤\n",
       "│ dropout_4 (\u001b[38;5;33mDropout\u001b[0m)                  │ (\u001b[38;5;45mNone\u001b[0m, \u001b[38;5;34m8\u001b[0m)                   │               \u001b[38;5;34m0\u001b[0m │\n",
       "├──────────────────────────────────────┼─────────────────────────────┼─────────────────┤\n",
       "│ dense_12 (\u001b[38;5;33mDense\u001b[0m)                     │ (\u001b[38;5;45mNone\u001b[0m, \u001b[38;5;34m3\u001b[0m)                   │              \u001b[38;5;34m27\u001b[0m │\n",
       "└──────────────────────────────────────┴─────────────────────────────┴─────────────────┘\n"
      ]
     },
     "metadata": {},
     "output_type": "display_data"
    },
    {
     "data": {
      "text/html": [
       "<pre style=\"white-space:pre;overflow-x:auto;line-height:normal;font-family:Menlo,'DejaVu Sans Mono',consolas,'Courier New',monospace\"><span style=\"font-weight: bold\"> Total params: </span><span style=\"color: #00af00; text-decoration-color: #00af00\">500,835</span> (1.91 MB)\n",
       "</pre>\n"
      ],
      "text/plain": [
       "\u001b[1m Total params: \u001b[0m\u001b[38;5;34m500,835\u001b[0m (1.91 MB)\n"
      ]
     },
     "metadata": {},
     "output_type": "display_data"
    },
    {
     "data": {
      "text/html": [
       "<pre style=\"white-space:pre;overflow-x:auto;line-height:normal;font-family:Menlo,'DejaVu Sans Mono',consolas,'Courier New',monospace\"><span style=\"font-weight: bold\"> Trainable params: </span><span style=\"color: #00af00; text-decoration-color: #00af00\">500,835</span> (1.91 MB)\n",
       "</pre>\n"
      ],
      "text/plain": [
       "\u001b[1m Trainable params: \u001b[0m\u001b[38;5;34m500,835\u001b[0m (1.91 MB)\n"
      ]
     },
     "metadata": {},
     "output_type": "display_data"
    },
    {
     "data": {
      "text/html": [
       "<pre style=\"white-space:pre;overflow-x:auto;line-height:normal;font-family:Menlo,'DejaVu Sans Mono',consolas,'Courier New',monospace\"><span style=\"font-weight: bold\"> Non-trainable params: </span><span style=\"color: #00af00; text-decoration-color: #00af00\">0</span> (0.00 B)\n",
       "</pre>\n"
      ],
      "text/plain": [
       "\u001b[1m Non-trainable params: \u001b[0m\u001b[38;5;34m0\u001b[0m (0.00 B)\n"
      ]
     },
     "metadata": {},
     "output_type": "display_data"
    }
   ],
   "source": [
    "embedding_layer = keras.layers.Embedding(\n",
    "    max_tokens,\n",
    "    embedding_dim,\n",
    "    embeddings_initializer = keras.initializers.Constant(embedding_matrix),\n",
    "    trainable = True\n",
    ")\n",
    "\n",
    "inputs = keras.Input(shape = (max_length, ))\n",
    "embedded = embedding_layer(inputs)\n",
    "embedded = keras.layers.GlobalAveragePooling1D()(embedded)\n",
    "x = keras.layers.Dense(8)(embedded)\n",
    "x= keras.layers.Dropout(0.5)(x)\n",
    "outputs = keras.layers.Dense(3,activation = \"softmax\")(x)\n",
    "\n",
    "model = keras.Model(inputs, outputs)\n",
    "model.summary()"
   ]
  },
  {
   "cell_type": "code",
   "execution_count": 67,
   "id": "4312c8e1-2b6a-4583-aca7-c8163dca9d3a",
   "metadata": {},
   "outputs": [],
   "source": [
    "#compile model\n",
    "model.compile(optimizer = \"adam\",\n",
    "             loss = \"categorical_crossentropy\",\n",
    "             metrics = ['accuracy'])"
   ]
  },
  {
   "cell_type": "code",
   "execution_count": 68,
   "id": "ba8f8ada-ac26-49e0-9d52-378d47e1f790",
   "metadata": {},
   "outputs": [
    {
     "name": "stdout",
     "output_type": "stream",
     "text": [
      "Epoch 1/10\n",
      "\u001b[1m1531/1531\u001b[0m \u001b[32m━━━━━━━━━━━━━━━━━━━━\u001b[0m\u001b[37m\u001b[0m \u001b[1m17s\u001b[0m 10ms/step - accuracy: 0.6346 - loss: 0.8350 - val_accuracy: 0.7218 - val_loss: 0.6521\n",
      "Epoch 2/10\n",
      "\u001b[1m1531/1531\u001b[0m \u001b[32m━━━━━━━━━━━━━━━━━━━━\u001b[0m\u001b[37m\u001b[0m \u001b[1m15s\u001b[0m 10ms/step - accuracy: 0.7144 - loss: 0.6828 - val_accuracy: 0.7299 - val_loss: 0.6286\n",
      "Epoch 3/10\n",
      "\u001b[1m1531/1531\u001b[0m \u001b[32m━━━━━━━━━━━━━━━━━━━━\u001b[0m\u001b[37m\u001b[0m \u001b[1m14s\u001b[0m 9ms/step - accuracy: 0.7274 - loss: 0.6483 - val_accuracy: 0.7333 - val_loss: 0.6195\n",
      "Epoch 4/10\n",
      "\u001b[1m1531/1531\u001b[0m \u001b[32m━━━━━━━━━━━━━━━━━━━━\u001b[0m\u001b[37m\u001b[0m \u001b[1m14s\u001b[0m 9ms/step - accuracy: 0.7354 - loss: 0.6275 - val_accuracy: 0.7310 - val_loss: 0.6190\n",
      "Epoch 5/10\n",
      "\u001b[1m1531/1531\u001b[0m \u001b[32m━━━━━━━━━━━━━━━━━━━━\u001b[0m\u001b[37m\u001b[0m \u001b[1m14s\u001b[0m 9ms/step - accuracy: 0.7404 - loss: 0.6166 - val_accuracy: 0.7312 - val_loss: 0.6206\n",
      "Epoch 6/10\n",
      "\u001b[1m1531/1531\u001b[0m \u001b[32m━━━━━━━━━━━━━━━━━━━━\u001b[0m\u001b[37m\u001b[0m \u001b[1m15s\u001b[0m 9ms/step - accuracy: 0.7444 - loss: 0.6095 - val_accuracy: 0.7322 - val_loss: 0.6256\n",
      "Epoch 7/10\n",
      "\u001b[1m1531/1531\u001b[0m \u001b[32m━━━━━━━━━━━━━━━━━━━━\u001b[0m\u001b[37m\u001b[0m \u001b[1m14s\u001b[0m 9ms/step - accuracy: 0.7482 - loss: 0.5971 - val_accuracy: 0.7325 - val_loss: 0.6256\n",
      "Epoch 8/10\n",
      "\u001b[1m1531/1531\u001b[0m \u001b[32m━━━━━━━━━━━━━━━━━━━━\u001b[0m\u001b[37m\u001b[0m \u001b[1m14s\u001b[0m 9ms/step - accuracy: 0.7500 - loss: 0.5942 - val_accuracy: 0.7319 - val_loss: 0.6258\n",
      "Epoch 9/10\n",
      "\u001b[1m1531/1531\u001b[0m \u001b[32m━━━━━━━━━━━━━━━━━━━━\u001b[0m\u001b[37m\u001b[0m \u001b[1m14s\u001b[0m 9ms/step - accuracy: 0.7544 - loss: 0.5845 - val_accuracy: 0.7284 - val_loss: 0.6319\n",
      "Epoch 10/10\n",
      "\u001b[1m1531/1531\u001b[0m \u001b[32m━━━━━━━━━━━━━━━━━━━━\u001b[0m\u001b[37m\u001b[0m \u001b[1m14s\u001b[0m 9ms/step - accuracy: 0.7536 - loss: 0.5826 - val_accuracy: 0.7300 - val_loss: 0.6323\n"
     ]
    },
    {
     "data": {
      "text/plain": [
       "<keras.src.callbacks.history.History at 0x1ebf2d01ab0>"
      ]
     },
     "execution_count": 68,
     "metadata": {},
     "output_type": "execute_result"
    }
   ],
   "source": [
    "#fit model\n",
    "model.fit(x= x_train, y = y_train,\n",
    "         validation_data = (x_val, y_val),\n",
    "         epochs = 10,\n",
    "         batch_size = 32)"
   ]
  },
  {
   "cell_type": "code",
   "execution_count": 69,
   "id": "86ac2b8f-8549-4652-8ec8-429764cb5e12",
   "metadata": {},
   "outputs": [
    {
     "name": "stdout",
     "output_type": "stream",
     "text": [
      "\u001b[1m681/681\u001b[0m \u001b[32m━━━━━━━━━━━━━━━━━━━━\u001b[0m\u001b[37m\u001b[0m \u001b[1m3s\u001b[0m 4ms/step - accuracy: 0.7302 - loss: 0.6407\n"
     ]
    },
    {
     "data": {
      "text/plain": [
       "[0.6435191035270691, 0.731330931186676]"
      ]
     },
     "execution_count": 69,
     "metadata": {},
     "output_type": "execute_result"
    }
   ],
   "source": [
    "model.evaluate(x = x_test, y = y_test)"
   ]
  },
  {
   "cell_type": "code",
   "execution_count": 70,
   "id": "f4643265-da55-4642-9a1d-33268a54eb3f",
   "metadata": {},
   "outputs": [],
   "source": [
    "#lets see how it works with actuall lyrics \n",
    "def lyric_predict(phrase):\n",
    "    raw_text_data = tf.convert_to_tensor([[phrase],])\n",
    "\n",
    "    vect_data = text_vectorization(raw_text_data)\n",
    "    predictions = model.predict(vect_data) \n",
    "    predictions\n",
    "    print(f\"{float(predictions[0,0] * 100):.2f} % Hip-Hop\")\n",
    "    print(f\"{float(predictions[0,1] * 100):.2f} % Pop\")\n",
    "    print(f\"{float(predictions[0,2] * 100):.2f} % Rock\")"
   ]
  },
  {
   "cell_type": "code",
   "execution_count": 71,
   "id": "cfb9e0b3-db0e-4872-9ad3-f521445250d1",
   "metadata": {},
   "outputs": [
    {
     "name": "stdout",
     "output_type": "stream",
     "text": [
      "\u001b[1m1/1\u001b[0m \u001b[32m━━━━━━━━━━━━━━━━━━━━\u001b[0m\u001b[37m\u001b[0m \u001b[1m0s\u001b[0m 160ms/step\n",
      "43.99 % Hip-Hop\n",
      "16.03 % Pop\n",
      "39.98 % Rock\n"
     ]
    }
   ],
   "source": [
    "phrase = '''I grew up on the crime side, the New York Times side\n",
    "Stayin' alive was no jive\n",
    "Had secondhands, Mom's bounced on old man\n",
    "So then we moved to Shaolin land\n",
    "A young youth, yo, rockin' the gold tooth, 'Lo goose\n",
    "Only way I begin the G off was drug loot\n",
    "And let's start it like this, son\n",
    "Rollin' with this one and that one, pullin' out gats for fun\n",
    "But it was just a dream for the teen\n",
    "Who was a fiend, started smokin' woolies at 16\n",
    "And runnin' up in gates and doin' hits for high stakes\n",
    "Makin' my way on fire escapes\n",
    "No question, I would speed for cracks and weed\n",
    "The combination made my eyes bleed\n",
    "No question, I would flow off and try to get the dough all\n",
    "Stickin' up white boys in ball courts\n",
    "My life got no better, same damn 'Lo sweater\n",
    "Times is rough and tough like leather\n",
    "Figured out I went the wrong route\n",
    "So I got with a sick-ass clique and went all out\n",
    "Catchin' keys from 'cross seas\n",
    "Rollin' in MPV's, every week we made forty G's\n",
    "Yo, ****, respect mine, or here go the TEC-9\n",
    "Ch-chick-pow! Move from the gate now'''\n",
    "\n",
    "lyric_predict(phrase)"
   ]
  },
  {
   "cell_type": "code",
   "execution_count": 75,
   "id": "267e51cb-b494-46ea-a5ed-59c91d0a8c40",
   "metadata": {},
   "outputs": [
    {
     "name": "stdout",
     "output_type": "stream",
     "text": [
      "\u001b[1m1/1\u001b[0m \u001b[32m━━━━━━━━━━━━━━━━━━━━\u001b[0m\u001b[37m\u001b[0m \u001b[1m0s\u001b[0m 66ms/step\n",
      "4.01 % Hip-Hop\n",
      "56.56 % Pop\n",
      "39.43 % Rock\n"
     ]
    }
   ],
   "source": [
    "phrase = '''It still feels like our first night together\n",
    "Feels like the first kiss\n",
    "It's getting better baby\n",
    "No one can better this\n",
    "Still holding on\n",
    "You're still the one\n",
    "First time our eyes met\n",
    "Same feeling I get\n",
    "Only feels much stronger\n",
    "I want to love you longer\n",
    "Do you still turn the fire on?\n",
    "So if you're feeling lonely, don't\n",
    "You're the only one I'll ever want\n",
    "I only want to make it good\n",
    "So if I love you, a little more than I should\n",
    "Please forgive me, I know not what I do\n",
    "Please forgive me, I can't stop loving you\n",
    "Don't deny me, this pain I'm going through\n",
    "Please forgive me, if I need you like I do\n",
    "Please believe me, every word I say is true\n",
    "Please forgive me, I can't stop loving you\n",
    "Still feels like our best times are together\n",
    "Feels like the first touch\n",
    "We're still getting closer baby\n",
    "Can't get closer enough\n",
    "Still holding on\n",
    "You're still number one\n",
    "I remember the smell of your skin\n",
    "I remember everything\n",
    "I remember all your moves\n",
    "I remember you yeah\n",
    "I remember the nights, you know I still do\n",
    "So if you're feeling lonely, don't\n",
    "You're the only one I'll ever want\n",
    "I only want to make it good\n",
    "So if I love you a little more than I should\n",
    "Please forgive me, I know not what I do\n",
    "Please forgive me, I can't stop loving you\n",
    "Don't deny me, this pain I'm going through\n",
    "Please forgive me, if I need you like I do\n",
    "Please believe me, every word I say is true\n",
    "Please forgive me, I can't stop loving you\n",
    "The one thing I'm sure of\n",
    "Is the way we make love\n",
    "The one thing I depend on\n",
    "Is for us to stay strong\n",
    "With every word and every breath I'm praying\n",
    "That's why I'm saying,\n",
    "Please forgive me, I know not what I do\n",
    "Please forgive me, I can't stop loving you\n",
    "Don't deny me, this pain I'm going through\n",
    "Please forgive me, if I need you like I do\n",
    "Babe believe it, every word I say is true\n",
    "Please forgive me, if I can't stop loving you\n",
    "No, believe me, I don't know what I do\n",
    "Please forgive me, I can't stop loving you\n",
    "I can't stop, loving you'''\n",
    "\n",
    "lyric_predict(phrase)"
   ]
  },
  {
   "cell_type": "code",
   "execution_count": null,
   "id": "a3e3068d-6570-4674-9124-b3333e51a01f",
   "metadata": {},
   "outputs": [],
   "source": []
  },
  {
   "cell_type": "code",
   "execution_count": null,
   "id": "62445aa0-f4a8-45db-a147-8831b09eaf13",
   "metadata": {},
   "outputs": [],
   "source": []
  },
  {
   "cell_type": "code",
   "execution_count": null,
   "id": "4aca8cb2-0857-4bc5-98e9-d8aeb7fe1cfb",
   "metadata": {},
   "outputs": [],
   "source": []
  },
  {
   "cell_type": "code",
   "execution_count": null,
   "id": "02b52d3f-eb23-46e6-851f-cdfc0bf0cd36",
   "metadata": {},
   "outputs": [],
   "source": []
  }
 ],
 "metadata": {
  "kernelspec": {
   "display_name": "Python (tf_env1)",
   "language": "python",
   "name": "tf_env1"
  },
  "language_info": {
   "codemirror_mode": {
    "name": "ipython",
    "version": 3
   },
   "file_extension": ".py",
   "mimetype": "text/x-python",
   "name": "python",
   "nbconvert_exporter": "python",
   "pygments_lexer": "ipython3",
   "version": "3.10.16"
  }
 },
 "nbformat": 4,
 "nbformat_minor": 5
}
